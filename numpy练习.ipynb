{
 "cells": [
  {
   "cell_type": "code",
   "execution_count": 12,
   "metadata": {},
   "outputs": [
    {
     "name": "stdout",
     "output_type": "stream",
     "text": [
      "[[1 2 3 4 5 6]\n",
      " [2 3 4 5 6 7]\n",
      " [3 4 5 6 7 8]] <class 'numpy.ndarray'>\n",
      "2\n",
      "(3, 6)\n",
      "18\n",
      "<class 'numpy.ndarray'> int32\n",
      "4\n",
      "<memory at 0x00000206EC366C18>\n"
     ]
    }
   ],
   "source": [
    "import numpy as np\n",
    "ar=np.array([[1,2,3,4,5,6],[2,3,4,5,6,7],[3,4,5,6,7,8]])\n",
    "ar\n",
    "print(ar,type(ar))\n",
    "print(ar.ndim)#判断是几维数组\n",
    "print(ar.shape)\n",
    "print(ar.size)#元素个数\n",
    "print(type(ar),ar.dtype)\n",
    "print(ar.itemsize)#每个元素字节大小\n",
    "print(ar.data)"
   ]
  },
  {
   "cell_type": "code",
   "execution_count": 19,
   "metadata": {},
   "outputs": [
    {
     "name": "stdout",
     "output_type": "stream",
     "text": [
      "[0 1 2 3 4 5 6 7 8 9]\n",
      "10\n",
      "[1 2 3 4 5 6]\n",
      "[list([1, 2, 3]) list(['a', 'b', 'c', 'd'])] 1\n",
      "[['1' '2' '3']\n",
      " ['a' 'b' 'c']] 2\n"
     ]
    }
   ],
   "source": [
    "ar1=np.array(range(10))\n",
    "ar2=np.array(10)\n",
    "ar3=np.array([1,2,3,4,5,6])\n",
    "ar4=np.array([[1,2,3],['a','b','c','d']])#个数不一样时变为一维数组\n",
    "ar5=np.array([[1,2,3],['a','b','c']])\n",
    "print(ar1)\n",
    "print(ar2)\n",
    "print(ar3)\n",
    "print(ar4,ar4.ndim)\n",
    "print(ar5,ar5.ndim)"
   ]
  },
  {
   "cell_type": "code",
   "execution_count": 20,
   "metadata": {},
   "outputs": [
    {
     "name": "stdout",
     "output_type": "stream",
     "text": [
      "[[0.19242378 0.24268677 0.1908527  0.11091509 0.16684765]\n",
      " [0.74768741 0.76570983 0.15930961 0.15178898 0.57322732]]\n"
     ]
    }
   ],
   "source": [
    "print(np.random.rand(10).reshape(2,5))"
   ]
  },
  {
   "cell_type": "code",
   "execution_count": 22,
   "metadata": {},
   "outputs": [
    {
     "name": "stdout",
     "output_type": "stream",
     "text": [
      "[0 1 2 3 4 5 6 7 8 9]\n",
      "[5 6 7 8 9]\n"
     ]
    }
   ],
   "source": [
    "print(np.arange(10))\n",
    "print(np.arange(5,10))"
   ]
  },
  {
   "cell_type": "code",
   "execution_count": 26,
   "metadata": {},
   "outputs": [
    {
     "name": "stdout",
     "output_type": "stream",
     "text": [
      "[10.         10.52631579 11.05263158 11.57894737 12.10526316 12.63157895\n",
      " 13.15789474 13.68421053 14.21052632 14.73684211 15.26315789 15.78947368\n",
      " 16.31578947 16.84210526 17.36842105 17.89473684 18.42105263 18.94736842\n",
      " 19.47368421 20.        ]\n",
      "[10.         10.47619048 10.95238095 11.42857143 11.9047619  12.38095238\n",
      " 12.85714286 13.33333333 13.80952381 14.28571429 14.76190476 15.23809524\n",
      " 15.71428571 16.19047619 16.66666667 17.14285714 17.61904762 18.0952381\n",
      " 18.57142857 19.04761905 19.52380952]\n",
      "(array([10. , 10.5, 11. , 11.5, 12. , 12.5, 13. , 13.5, 14. , 14.5, 15. ,\n",
      "       15.5, 16. , 16.5, 17. , 17.5, 18. , 18.5, 19. , 19.5, 20. ]), 0.5)\n"
     ]
    }
   ],
   "source": [
    "print(np.linspace(10,20,num=20))#等差\n",
    "print(np.linspace(10,20,num=21,endpoint=False))\n",
    "#endpoint表示最后一个数包含或不包含\n",
    "print(np.linspace(10,20,num=21,retstep=True))#restep是显示步长"
   ]
  },
  {
   "cell_type": "code",
   "execution_count": 32,
   "metadata": {},
   "outputs": [
    {
     "name": "stdout",
     "output_type": "stream",
     "text": [
      "[0. 0. 0. 0. 0. 0. 0. 0. 0. 0.]\n",
      "[[0 0 0 0 0]\n",
      " [0 0 0 0 0]]\n",
      "[[ 0  1  2  3  4  5  6  7  8  9]\n",
      " [10 11 12 13 14 15 16 17 18 19]]\n",
      "[[0 0 0 0 0 0 0 0 0 0]\n",
      " [0 0 0 0 0 0 0 0 0 0]]\n"
     ]
    }
   ],
   "source": [
    "print(np.zeros(10))\n",
    "print(np.zeros((2,5),dtype=np.int))\n",
    "ar=np.array([list(range(10)),list(range(10,20))])\n",
    "print(ar)\n",
    "print(np.zeros_like(ar))"
   ]
  },
  {
   "cell_type": "code",
   "execution_count": 34,
   "metadata": {},
   "outputs": [
    {
     "name": "stdout",
     "output_type": "stream",
     "text": [
      "[1. 1. 1. 1. 1. 1. 1. 1. 1.]\n"
     ]
    }
   ],
   "source": [
    "ar5=np.ones(9)\n",
    "print(ar5)"
   ]
  },
  {
   "cell_type": "code",
   "execution_count": 35,
   "metadata": {},
   "outputs": [
    {
     "name": "stdout",
     "output_type": "stream",
     "text": [
      "[[1. 0. 0. 0. 0.]\n",
      " [0. 1. 0. 0. 0.]\n",
      " [0. 0. 1. 0. 0.]\n",
      " [0. 0. 0. 1. 0.]\n",
      " [0. 0. 0. 0. 1.]]\n"
     ]
    }
   ],
   "source": [
    "print(np.eye(5))#创建一个正方形的N*N的单位矩阵，对角线值为1，其余为0"
   ]
  },
  {
   "cell_type": "code",
   "execution_count": 37,
   "metadata": {},
   "outputs": [
    {
     "name": "stdout",
     "output_type": "stream",
     "text": [
      "[1 2 'a' 'hello' list([1, 2, 3]) {'two': 200, 'one': 100}] (6,)\n"
     ]
    }
   ],
   "source": [
    "a1=np.array([1,2,'a','hello',[1,2,3],{'two':200,'one':100}])\n",
    "print(a1,a1.shape)"
   ]
  },
  {
   "cell_type": "code",
   "execution_count": 41,
   "metadata": {},
   "outputs": [
    {
     "name": "stdout",
     "output_type": "stream",
     "text": [
      "[ 5  6  7  8  9 10 11 12 13 14]\n"
     ]
    }
   ],
   "source": [
    "print(np.arange(5,15))"
   ]
  },
  {
   "cell_type": "code",
   "execution_count": 42,
   "metadata": {},
   "outputs": [
    {
     "name": "stdout",
     "output_type": "stream",
     "text": [
      "[[0. 0. 0. 0.]\n",
      " [0. 0. 0. 0.]\n",
      " [0. 0. 0. 0.]\n",
      " [0. 0. 0. 0.]]\n"
     ]
    }
   ],
   "source": [
    "print(np.zeros((4,4)))"
   ]
  },
  {
   "cell_type": "code",
   "execution_count": 44,
   "metadata": {},
   "outputs": [
    {
     "name": "stdout",
     "output_type": "stream",
     "text": [
      "[[1. 1. 1.]\n",
      " [1. 1. 1.]]\n"
     ]
    }
   ],
   "source": [
    "print(np.ones((2,3)))"
   ]
  },
  {
   "cell_type": "code",
   "execution_count": 45,
   "metadata": {},
   "outputs": [
    {
     "name": "stdout",
     "output_type": "stream",
     "text": [
      "[[1. 0. 0.]\n",
      " [0. 1. 0.]\n",
      " [0. 0. 1.]]\n"
     ]
    }
   ],
   "source": [
    "print(np.eye(3))"
   ]
  },
  {
   "cell_type": "markdown",
   "metadata": {},
   "source": [
    "通用函数"
   ]
  },
  {
   "cell_type": "code",
   "execution_count": 46,
   "metadata": {},
   "outputs": [
    {
     "name": "stdout",
     "output_type": "stream",
     "text": [
      "[0 1 2 3 4 5 6 7 8 9]\n",
      "[[0. 0. 0. 0. 0.]\n",
      " [0. 0. 0. 0. 0.]]\n",
      "[0 1 2 3 4 5 6 7 8 9]\n",
      "[[0. 0.]\n",
      " [0. 0.]\n",
      " [0. 0.]\n",
      " [0. 0.]\n",
      " [0. 0.]]\n"
     ]
    }
   ],
   "source": [
    "ar1=np.arange(10)\n",
    "ar2=np.zeros((2,5))\n",
    "print(ar1)\n",
    "print(ar2)\n",
    "print(ar1.T)\n",
    "print(ar2.T)#行列转置"
   ]
  },
  {
   "cell_type": "code",
   "execution_count": 48,
   "metadata": {},
   "outputs": [
    {
     "name": "stdout",
     "output_type": "stream",
     "text": [
      "[[0 1]\n",
      " [2 3]\n",
      " [4 5]\n",
      " [6 7]\n",
      " [8 9]]\n"
     ]
    }
   ],
   "source": [
    "print(ar1.reshape(5,2))"
   ]
  },
  {
   "cell_type": "code",
   "execution_count": 50,
   "metadata": {},
   "outputs": [
    {
     "name": "stdout",
     "output_type": "stream",
     "text": [
      "[[1. 1. 1. 1. 1. 1. 1. 1. 1. 1. 1. 1. 1. 1. 1. 1. 1. 1. 1. 1.]\n",
      " [1. 1. 1. 1. 1. 1. 1. 1. 1. 1. 1. 1. 1. 1. 1. 1. 1. 1. 1. 1.]\n",
      " [1. 1. 1. 1. 1. 1. 1. 1. 1. 1. 1. 1. 1. 1. 1. 1. 1. 1. 1. 1.]\n",
      " [1. 1. 1. 1. 1. 1. 1. 1. 1. 1. 1. 1. 1. 1. 1. 1. 1. 1. 1. 1.]\n",
      " [1. 1. 1. 1. 1. 1. 1. 1. 1. 1. 1. 1. 1. 1. 1. 1. 1. 1. 1. 1.]]\n"
     ]
    }
   ],
   "source": [
    "print(np.ones((10,10)).reshape(5,20))"
   ]
  },
  {
   "cell_type": "code",
   "execution_count": 51,
   "metadata": {},
   "outputs": [
    {
     "name": "stdout",
     "output_type": "stream",
     "text": [
      "[[ 0  1  2  3  4  5  6  7]\n",
      " [ 8  9 10 11 12 13 14 15]]\n"
     ]
    }
   ],
   "source": [
    "print(np.reshape(np.arange(16),(2,8)))"
   ]
  },
  {
   "cell_type": "code",
   "execution_count": 53,
   "metadata": {},
   "outputs": [
    {
     "name": "stdout",
     "output_type": "stream",
     "text": [
      "[[0 1 2 3]\n",
      " [4 0 1 2]\n",
      " [3 4 0 1]]\n",
      "[[ 0  1  2  3]\n",
      " [ 4  5  6  7]\n",
      " [ 8  9 10 11]]\n"
     ]
    }
   ],
   "source": [
    "print(np.resize(np.arange(5),(3,4)))#多删少补\n",
    "print(np.resize(np.arange(14),(3,4)))"
   ]
  },
  {
   "cell_type": "code",
   "execution_count": 54,
   "metadata": {},
   "outputs": [
    {
     "name": "stdout",
     "output_type": "stream",
     "text": [
      "True\n"
     ]
    }
   ],
   "source": [
    "#数组复制\n",
    "ar1=np.arange(10)\n",
    "ar2=ar1\n",
    "print(ar1 is ar2)"
   ]
  },
  {
   "cell_type": "code",
   "execution_count": 55,
   "metadata": {},
   "outputs": [
    {
     "data": {
      "text/plain": [
       "array([  0,   1, 100,   3,   4,   5,   6,   7,   8,   9])"
      ]
     },
     "execution_count": 55,
     "metadata": {},
     "output_type": "execute_result"
    }
   ],
   "source": [
    "ar1[2]=100\n",
    "ar2"
   ]
  },
  {
   "cell_type": "code",
   "execution_count": 56,
   "metadata": {},
   "outputs": [
    {
     "data": {
      "text/plain": [
       "array([  0,   1, 100,   3,   4,   5,   6,   7,   8,   9])"
      ]
     },
     "execution_count": 56,
     "metadata": {},
     "output_type": "execute_result"
    }
   ],
   "source": [
    "ar3=ar1.copy()\n",
    "ar1[3]=1000\n",
    "ar3"
   ]
  },
  {
   "cell_type": "code",
   "execution_count": 57,
   "metadata": {},
   "outputs": [
    {
     "data": {
      "text/plain": [
       "array([   0,    1,  100, 1000,    4,    5,    6,    7,    8,    9])"
      ]
     },
     "execution_count": 57,
     "metadata": {},
     "output_type": "execute_result"
    }
   ],
   "source": [
    "ar1"
   ]
  },
  {
   "cell_type": "code",
   "execution_count": 62,
   "metadata": {},
   "outputs": [
    {
     "name": "stdout",
     "output_type": "stream",
     "text": [
      "None\n",
      "[[0 1 2 3 4 5]\n",
      " [6 7 8 9 0 1]]\n",
      "None\n",
      "[[0 1 2 3 4 5]\n",
      " [6 7 8 9 0 0]]\n"
     ]
    }
   ],
   "source": [
    "print(np.arange(10).resize(2,6))\n",
    "s=np.arange(10)\n",
    "print(np.resize(s,(2,6)))#生成新的数组\n",
    "print(s.resize(2,6))#改变s本身\n",
    "print(s)"
   ]
  },
  {
   "cell_type": "code",
   "execution_count": 64,
   "metadata": {},
   "outputs": [
    {
     "data": {
      "text/plain": [
       "array([0., 1., 2., 3., 4., 5., 6., 7., 8., 9.])"
      ]
     },
     "execution_count": 64,
     "metadata": {},
     "output_type": "execute_result"
    }
   ],
   "source": [
    "#改变数组类型\n",
    "ar1=np.arange(10,dtype=float)\n",
    "ar1"
   ]
  },
  {
   "cell_type": "code",
   "execution_count": 66,
   "metadata": {},
   "outputs": [
    {
     "name": "stdout",
     "output_type": "stream",
     "text": [
      "[0. 1. 2. 3. 4. 5. 6. 7. 8. 9.] float64\n",
      "[0 1 2 3 4 5 6 7 8 9] int64\n"
     ]
    }
   ],
   "source": [
    "ar2=ar1.astype(np.int64)\n",
    "print(ar1,ar1.dtype)\n",
    "print(ar2,ar2.dtype)"
   ]
  },
  {
   "cell_type": "code",
   "execution_count": 84,
   "metadata": {},
   "outputs": [
    {
     "name": "stdout",
     "output_type": "stream",
     "text": [
      "[0 1 2 3 4]\n",
      "[5 6 7 8]\n",
      "[0 1 2 3 4 5 6 7 8]\n",
      "[[1]\n",
      " [2]\n",
      " [3]]\n",
      "[['a']\n",
      " ['b']\n",
      " ['c']]\n",
      "[['1']\n",
      " ['2']\n",
      " ['3']\n",
      " ['a']\n",
      " ['b']\n",
      " ['c']]\n",
      "[['1' 'a']\n",
      " ['2' 'b']\n",
      " ['3' 'c']]\n",
      "[[0 5]\n",
      " [1 6]\n",
      " [2 7]\n",
      " [3 8]\n",
      " [4 9]]\n",
      "[[0 1 2 3 4]\n",
      " [5 6 7 8 9]]\n",
      "[[0 1 2 3 4]\n",
      " [5 6 7 8 9]]\n",
      "[0 1 2 3 4 5 6 7 8 9]\n"
     ]
    }
   ],
   "source": [
    "#数组堆叠\n",
    "a=np.arange(5)\n",
    "b=np.arange(5,9)\n",
    "print(a)\n",
    "print(b)\n",
    "print(np.hstack((a,b)))\n",
    "\n",
    "a=np.array([[1],[2],[3]])\n",
    "b=np.array([['a'],['b'],['c']])\n",
    "print(a)\n",
    "print(b)\n",
    "print(np.vstack((a,b)))\n",
    "print(np.hstack((a,b)))\n",
    "\n",
    "a=np.arange(5)\n",
    "b=np.arange(5,10)\n",
    "print(np.stack((a,b),axis=1))\n",
    "print(np.stack((a,b),axis=0))\n",
    "print(np.vstack((a,b)))\n",
    "print(np.hstack((a,b)))"
   ]
  },
  {
   "cell_type": "code",
   "execution_count": 88,
   "metadata": {},
   "outputs": [
    {
     "name": "stdout",
     "output_type": "stream",
     "text": [
      "[[ 0  1  2  3]\n",
      " [ 4  5  6  7]\n",
      " [ 8  9 10 11]\n",
      " [12 13 14 15]]\n",
      "[[ 0  1]\n",
      " [ 4  5]\n",
      " [ 8  9]\n",
      " [12 13]]\n",
      "[array([[0, 1, 2, 3],\n",
      "       [4, 5, 6, 7]]), array([[ 8,  9, 10, 11],\n",
      "       [12, 13, 14, 15]])]\n"
     ]
    }
   ],
   "source": [
    "#数组拆分\n",
    "ar=np.arange(16).reshape(4,4)\n",
    "print(ar)\n",
    "print(np.hsplit(ar,2)[0])\n",
    "print(np.vsplit(ar,2))"
   ]
  },
  {
   "cell_type": "code",
   "execution_count": 94,
   "metadata": {},
   "outputs": [
    {
     "name": "stdout",
     "output_type": "stream",
     "text": [
      "[[10 11 12]\n",
      " [13 14 15]]\n",
      "[[ 0  2  4]\n",
      " [ 6  8 10]]\n",
      "[[0 1 2]\n",
      " [3 4 5]]\n",
      "5\n",
      "0\n",
      "2.5\n",
      "1.707825127659933\n",
      "2.9166666666666665\n",
      "15 [3 5 7]\n"
     ]
    }
   ],
   "source": [
    "#数组运算\n",
    "ar=np.arange(6).reshape(2,3)\n",
    "print(ar+10)\n",
    "print(ar*2)\n",
    "print(ar)\n",
    "print(ar.max())\n",
    "print(ar.min())\n",
    "print(ar.mean())\n",
    "print(ar.std())\n",
    "print(ar.var())#方差\n",
    "print(ar.sum(),np.sum(ar,axis=0))#axis=0，按行求和，axis=1按列求和"
   ]
  },
  {
   "cell_type": "code",
   "execution_count": 95,
   "metadata": {},
   "outputs": [
    {
     "name": "stdout",
     "output_type": "stream",
     "text": [
      "[[ 0  1  2  3  4]\n",
      " [ 5  6  7  8  9]\n",
      " [10 11 12 13 14]\n",
      " [15 16 17 18 19]]\n"
     ]
    }
   ],
   "source": [
    "#作业\n",
    "print(np.arange(20).reshape(4,5))"
   ]
  },
  {
   "cell_type": "code",
   "execution_count": 107,
   "metadata": {},
   "outputs": [
    {
     "name": "stdout",
     "output_type": "stream",
     "text": [
      "[[ 0  1  2  3  4  5]\n",
      " [ 6  7  8  9 10 11]\n",
      " [12 13 14 15 16 17]\n",
      " [18 19  0  1  2  3]\n",
      " [ 4  5  6  7  8  9]]\n"
     ]
    }
   ],
   "source": [
    "a=np.arange(20)\n",
    "print(np.resize(a,(5,6)))"
   ]
  },
  {
   "cell_type": "code",
   "execution_count": 115,
   "metadata": {},
   "outputs": [
    {
     "name": "stdout",
     "output_type": "stream",
     "text": [
      "[['0' '1' '2' '3']\n",
      " ['4' '5' '6' '7']\n",
      " ['8' '9' '10' '11']\n",
      " ['12' '13' '14' '15']]\n"
     ]
    }
   ],
   "source": [
    "a=np.arange(16).reshape(4,4)\n",
    "# print(a)\n",
    "b=a.astype(np.str)\n",
    "print(b)"
   ]
  },
  {
   "cell_type": "code",
   "execution_count": 120,
   "metadata": {},
   "outputs": [
    {
     "name": "stdout",
     "output_type": "stream",
     "text": [
      "[[ 0  1  2  3]\n",
      " [ 4  5  6  7]\n",
      " [ 8  9 10 11]\n",
      " [12 13 14 15]]\n",
      "[[100 110 120 130]\n",
      " [140 150 160 170]\n",
      " [180 190 200 210]\n",
      " [220 230 240 250]]\n",
      "175.0\n",
      "2800\n"
     ]
    }
   ],
   "source": [
    "a=np.arange(16).reshape(4,4)\n",
    "print(a)\n",
    "b=a*10+100\n",
    "print(b)\n",
    "print(b.mean())\n",
    "print(b.sum())"
   ]
  },
  {
   "cell_type": "code",
   "execution_count": null,
   "metadata": {},
   "outputs": [],
   "source": []
  }
 ],
 "metadata": {
  "kernelspec": {
   "display_name": "Python 3",
   "language": "python",
   "name": "python3"
  },
  "language_info": {
   "codemirror_mode": {
    "name": "ipython",
    "version": 3
   },
   "file_extension": ".py",
   "mimetype": "text/x-python",
   "name": "python",
   "nbconvert_exporter": "python",
   "pygments_lexer": "ipython3",
   "version": "3.7.2"
  }
 },
 "nbformat": 4,
 "nbformat_minor": 2
}
